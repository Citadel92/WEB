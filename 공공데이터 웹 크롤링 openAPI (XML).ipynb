{
 "cells": [
  {
   "cell_type": "code",
   "execution_count": 1,
   "metadata": {},
   "outputs": [],
   "source": [
    "import pandas as pd\n",
    "import requests\n",
    "from bs4  import BeautifulSoup"
   ]
  },
  {
   "cell_type": "code",
   "execution_count": 2,
   "metadata": {},
   "outputs": [
    {
     "data": {
      "text/html": [
       "<div>\n",
       "<style scoped>\n",
       "    .dataframe tbody tr th:only-of-type {\n",
       "        vertical-align: middle;\n",
       "    }\n",
       "\n",
       "    .dataframe tbody tr th {\n",
       "        vertical-align: top;\n",
       "    }\n",
       "\n",
       "    .dataframe thead th {\n",
       "        text-align: right;\n",
       "    }\n",
       "</style>\n",
       "<table border=\"1\" class=\"dataframe\">\n",
       "  <thead>\n",
       "    <tr style=\"text-align: right;\">\n",
       "      <th></th>\n",
       "      <th>기준일</th>\n",
       "      <th>동록일시분초</th>\n",
       "      <th>확진자수</th>\n",
       "    </tr>\n",
       "  </thead>\n",
       "  <tbody>\n",
       "    <tr>\n",
       "      <th>0</th>\n",
       "      <td>20200315</td>\n",
       "      <td>2020-03-15 10:01:22.22</td>\n",
       "      <td>8162</td>\n",
       "    </tr>\n",
       "    <tr>\n",
       "      <th>1</th>\n",
       "      <td>20200314</td>\n",
       "      <td>2020-03-14 10:29:11.11</td>\n",
       "      <td>8086</td>\n",
       "    </tr>\n",
       "    <tr>\n",
       "      <th>2</th>\n",
       "      <td>20200313</td>\n",
       "      <td>2020-03-13 10:07:22.22</td>\n",
       "      <td>7979</td>\n",
       "    </tr>\n",
       "    <tr>\n",
       "      <th>3</th>\n",
       "      <td>20200312</td>\n",
       "      <td>2020-03-12 10:37:03.03</td>\n",
       "      <td>7869</td>\n",
       "    </tr>\n",
       "    <tr>\n",
       "      <th>4</th>\n",
       "      <td>20200311</td>\n",
       "      <td>2020-03-11 10:17:19.19</td>\n",
       "      <td>7755</td>\n",
       "    </tr>\n",
       "    <tr>\n",
       "      <th>5</th>\n",
       "      <td>20200310</td>\n",
       "      <td>2020-03-10 10:20:27.27</td>\n",
       "      <td>7513</td>\n",
       "    </tr>\n",
       "  </tbody>\n",
       "</table>\n",
       "</div>"
      ],
      "text/plain": [
       "        기준일                  동록일시분초  확진자수\n",
       "0  20200315  2020-03-15 10:01:22.22  8162\n",
       "1  20200314  2020-03-14 10:29:11.11  8086\n",
       "2  20200313  2020-03-13 10:07:22.22  7979\n",
       "3  20200312  2020-03-12 10:37:03.03  7869\n",
       "4  20200311  2020-03-11 10:17:19.19  7755\n",
       "5  20200310  2020-03-10 10:20:27.27  7513"
      ]
     },
     "execution_count": 2,
     "metadata": {},
     "output_type": "execute_result"
    }
   ],
   "source": [
    "url = 'http://openapi.data.go.kr/openapi/service/rest/Covid19/getCovid19InfStateJson?serviceKey=DWUh8Ez%2F5e40kA6Z8eYoB6UQ5oG8N1qNiggl1L7GE1%2FG%2Bdl4CEV1vY1HmPpJMdVF%2BezqO0GuugRobJekFbYWZw%3D%3D&pageNo=1&numOfRows=10&startCreateDt=20200310&endCreateDt=20200315'\n",
    "res = requests.get(url)\n",
    "soup= BeautifulSoup(res.content, 'xml')\n",
    "items = soup.find_all('items')\n",
    "\n",
    "result = []\n",
    "\n",
    "for data in items:\n",
    "    item = data.find_all('item')\n",
    "    for test in item:\n",
    "        n_state = test.find(\"stateDt\").text\n",
    "        n_create = test.find(\"createDt\").text\n",
    "        n_decideCnt = test.find(\"decideCnt\").text\n",
    "    \n",
    "        result.append({'기준일': n_state,\n",
    "                      '동록일시분초' : n_create,\n",
    "                      '확진자수': n_decideCnt })\n",
    "    \n",
    "result\n",
    "\n",
    "mohw_covid19 = pd.DataFrame(result)\n",
    "mohw_covid19"
   ]
  },
  {
   "cell_type": "code",
   "execution_count": null,
   "metadata": {},
   "outputs": [],
   "source": []
  }
 ],
 "metadata": {
  "kernelspec": {
   "display_name": "Python 3",
   "language": "python",
   "name": "python3"
  },
  "language_info": {
   "codemirror_mode": {
    "name": "ipython",
    "version": 3
   },
   "file_extension": ".py",
   "mimetype": "text/x-python",
   "name": "python",
   "nbconvert_exporter": "python",
   "pygments_lexer": "ipython3",
   "version": "3.8.3"
  },
  "toc": {
   "base_numbering": 1,
   "nav_menu": {},
   "number_sections": true,
   "sideBar": true,
   "skip_h1_title": false,
   "title_cell": "Table of Contents",
   "title_sidebar": "Contents",
   "toc_cell": false,
   "toc_position": {},
   "toc_section_display": true,
   "toc_window_display": false
  }
 },
 "nbformat": 4,
 "nbformat_minor": 4
}
